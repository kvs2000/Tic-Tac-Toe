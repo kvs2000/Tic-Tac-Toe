{
 "cells": [
  {
   "cell_type": "code",
   "execution_count": null,
   "metadata": {},
   "outputs": [],
   "source": [
    "#Tic Tac Toe Game"
   ]
  },
  {
   "cell_type": "code",
   "execution_count": null,
   "metadata": {},
   "outputs": [],
   "source": [
    "#Display Board\n",
    "\n",
    "from IPython.display import clear_output\n",
    "\n",
    "def show_board(board):\n",
    "    print(board[7] + '|' + board[8] + '|' + board[9])\n",
    "    print('------')\n",
    "    print(board[4] + '|' + board[5] + '|' + board[6])\n",
    "    print('------')\n",
    "    print(board[1] + '|' + board[2] + '|' + board[3])\n",
    "    \n",
    "    "
   ]
  },
  {
   "cell_type": "code",
   "execution_count": null,
   "metadata": {},
   "outputs": [],
   "source": [
    "#Player Input\n",
    "\n",
    "def player_input():\n",
    "    \n",
    "    marker=''\n",
    "    while not (marker=='X' or marker=='O'):\n",
    "        marker = input('Please pick a marker: X or O ')\n",
    "    if marker =='X':\n",
    "        return('X','O')\n",
    "    else:\n",
    "        return('O','X')"
   ]
  },
  {
   "cell_type": "code",
   "execution_count": null,
   "metadata": {},
   "outputs": [],
   "source": [
    "#Place Marker\n",
    "def place_marker(board,marker,position):\n",
    "    board[position]=marker\n",
    "    "
   ]
  },
  {
   "cell_type": "code",
   "execution_count": null,
   "metadata": {},
   "outputs": [],
   "source": [
    "# Win check\n",
    "\n",
    "def win_check(board, mark):\n",
    "    return ((board[7]==mark and board[8]==mark and board[9]==mark) or\n",
    "            (board[4]==mark and board[5]==mark and board[6]==mark) or\n",
    "            (board[1]==mark and board[2]==mark and board[3]==mark) or\n",
    "            (board[7]==mark and board[4]==mark and board[1]==mark) or\n",
    "            (board[8]==mark and board[5]==mark and board[2]==mark) or\n",
    "            (board[9]==mark and board[6]==mark and board[3]==mark) or\n",
    "            (board[7]==mark and board[5]==mark and board[3]==mark) or\n",
    "            (board[1]==mark and board[5]==mark and board[9]==mark))\n",
    "            "
   ]
  },
  {
   "cell_type": "code",
   "execution_count": null,
   "metadata": {},
   "outputs": [],
   "source": [
    "#Player to start the game\n",
    "\n",
    "import random\n",
    "\n",
    "def choose_first():\n",
    "    if random.randint(0,1) == 1:\n",
    "        return 'Player 1'\n",
    "    else:\n",
    "        return 'Player 2'"
   ]
  },
  {
   "cell_type": "code",
   "execution_count": null,
   "metadata": {},
   "outputs": [],
   "source": [
    "#To check free space is available on board\n",
    "\n",
    "def free_space(board,position):\n",
    "    return board[position]== ' '"
   ]
  },
  {
   "cell_type": "code",
   "execution_count": null,
   "metadata": {},
   "outputs": [],
   "source": [
    "#To check if board is full\n",
    "\n",
    "def full_board(board):\n",
    "    for i in range(1,10):\n",
    "        if free_space(board,i):\n",
    "            return False\n",
    "    return True"
   ]
  },
  {
   "cell_type": "code",
   "execution_count": null,
   "metadata": {},
   "outputs": [],
   "source": [
    "#Functon to ask player it's next choice of position\n",
    "\n",
    "def player_choice(board):\n",
    "    position=0;\n",
    "    while position not in [1,2,3,4,5,6,7,8,9] or not free_space(board,position):\n",
    "        position=int(input('Choose your position (1-9): '))\n",
    "    return position"
   ]
  },
  {
   "cell_type": "code",
   "execution_count": null,
   "metadata": {},
   "outputs": [],
   "source": [
    "#To Play again\n",
    "\n",
    "def play_again():\n",
    "    return input('Do you want to play again - [Y] or [N] :')=='Y'"
   ]
  },
  {
   "cell_type": "code",
   "execution_count": null,
   "metadata": {},
   "outputs": [],
   "source": [
    "print('Tic Tac Toe')\n",
    "\n",
    "while True:\n",
    "    myboard=[' ']*10\n",
    "    (player1_marker,player2_marker) = player_input()\n",
    "    \n",
    "    turn=choose_first()\n",
    "    print(turn + ' start the Game!')\n",
    "    \n",
    "    play_game=input('Are you ready to play ? [Y] or [N] : ')\n",
    "    if play_game== 'Y':\n",
    "        game_on=True\n",
    "    else:\n",
    "        game_on=False\n",
    "        \n",
    "    while game_on:\n",
    "        \n",
    "        #Player 1\n",
    "        if turn=='Player 1':\n",
    "            show_board(myboard)\n",
    "            position = player_choice(myboard)\n",
    "            place_marker(myboard,player1_marker,position)\n",
    "            \n",
    "            if win_check(myboard, player1_marker):\n",
    "                print('Player 1 wins the game!\\n')\n",
    "                show_board(myboard)\n",
    "                game_on=False\n",
    "            else:\n",
    "                if full_board(myboard):\n",
    "                    \n",
    "                    print('The game is Draw!\\n')\n",
    "                    show_board(myboard)\n",
    "                    game_on=False\n",
    "                else:\n",
    "                    turn='Player 2'\n",
    "        #Player 2\n",
    "        else:\n",
    "            \n",
    "            show_board(myboard)\n",
    "            position = player_choice(myboard)\n",
    "            place_marker(myboard,player2_marker,position)\n",
    "            \n",
    "            if win_check(myboard, player2_marker):\n",
    "                print('Player 2 wins the game!\\n')\n",
    "                show_board(myboard)\n",
    "                game_on=False\n",
    "            else:\n",
    "                if full_board(myboard):\n",
    "                    \n",
    "                    print('The game is Draw!\\n')\n",
    "                    show_board(myboard)\n",
    "                    game_on=False\n",
    "                else:\n",
    "                    turn='Player 1'\n",
    "   \n",
    "    if not play_again():\n",
    "        break\n",
    "        \n",
    "            \n",
    "            \n",
    "        \n",
    "            \n",
    "        \n",
    "    "
   ]
  },
  {
   "cell_type": "code",
   "execution_count": null,
   "metadata": {},
   "outputs": [],
   "source": []
  },
  {
   "cell_type": "code",
   "execution_count": null,
   "metadata": {},
   "outputs": [],
   "source": []
  },
  {
   "cell_type": "code",
   "execution_count": null,
   "metadata": {},
   "outputs": [],
   "source": []
  },
  {
   "cell_type": "code",
   "execution_count": null,
   "metadata": {},
   "outputs": [],
   "source": []
  }
 ],
 "metadata": {
  "kernelspec": {
   "display_name": "Python 3",
   "language": "python",
   "name": "python3"
  },
  "language_info": {
   "codemirror_mode": {
    "name": "ipython",
    "version": 3
   },
   "file_extension": ".py",
   "mimetype": "text/x-python",
   "name": "python",
   "nbconvert_exporter": "python",
   "pygments_lexer": "ipython3",
   "version": "3.7.3"
  }
 },
 "nbformat": 4,
 "nbformat_minor": 2
}
